{
 "cells": [
  {
   "cell_type": "markdown",
   "metadata": {},
   "source": [
    "# Some basic Python concepts for beginners"
   ]
  },
  {
   "cell_type": "markdown",
   "metadata": {},
   "source": [
    "This is a very quick overview of some basic concepts of the Python programming language. More detailed tutorials and information can be found here - https://wiki.python.org/moin/BeginnersGuide/NonProgrammers\n",
    "\n",
    " ##### Remember, programming is not an easy task for anyone at first. But given practice, it becomes easier."
   ]
  },
  {
   "cell_type": "markdown",
   "metadata": {},
   "source": [
    "## Comments\n",
    "\n",
    "##### Comments can be used to explain code and make it more human friendly. They start with the '#' key. These lines of code are ignored by Python\n"
   ]
  },
  {
   "cell_type": "code",
   "execution_count": null,
   "metadata": {},
   "outputs": [],
   "source": [
    "# This is a comment\n",
    "print(\"Hello, World!\")"
   ]
  },
  {
   "cell_type": "code",
   "execution_count": null,
   "metadata": {},
   "outputs": [],
   "source": [
    "print(\"Hello, World!\") # This is a comment"
   ]
  },
  {
   "cell_type": "markdown",
   "metadata": {},
   "source": [
    "##### They can also be used to control execution and test code."
   ]
  },
  {
   "cell_type": "code",
   "execution_count": null,
   "metadata": {},
   "outputs": [],
   "source": [
    "# print(\"Hello, World!\")\n",
    "print(\"Cheers!\")"
   ]
  },
  {
   "cell_type": "markdown",
   "metadata": {},
   "source": [
    "## Variables\n",
    "\n",
    "##### Variables are containers for storing data values. Variables are creating by assigning values and should be named sensibly and uniquely. Be careful to avoid choosing names that are already being used in your current python session to indentify new variables. Dont name variables with Python keywords as these have a particular meaning to do things in your program. See [Python KeyWords]( https://docs.python.org/3.8/reference/lexical_analysis.html#:~:text=False%20%20%20%20%20%20await%20%20%20%20%20%20else,if%20%20%20%20%20%20%20%20%20or%20%20%20%20%20%20%20%20%20yield)\n",
    "\n",
    "\n",
    "\n"
   ]
  },
  {
   "cell_type": "markdown",
   "metadata": {},
   "source": [
    "##### Strings are a collection of characters."
   ]
  },
  {
   "cell_type": "code",
   "execution_count": null,
   "metadata": {},
   "outputs": [],
   "source": [
    "# Initilaise a variable named string_var with value\n",
    "string_var = \"this is a string\"\n",
    "\n",
    "# Print value of string_var to console\n",
    "print(string_var)\n",
    "\n",
    "# Get the data type of string_var\n",
    "type(string_var)"
   ]
  },
  {
   "cell_type": "markdown",
   "metadata": {},
   "source": [
    "##### Integers are whole numbers."
   ]
  },
  {
   "cell_type": "code",
   "execution_count": null,
   "metadata": {},
   "outputs": [],
   "source": [
    "# Initilaise a variable named int_var with value\n",
    "int_var = 1\n",
    "\n",
    "# Print value of int_var to console\n",
    "print(int_var)\n",
    "\n",
    "# Get the data type of int_var\n",
    "type(int_var)"
   ]
  },
  {
   "cell_type": "markdown",
   "metadata": {},
   "source": [
    "##### Floats are decimal numbers."
   ]
  },
  {
   "cell_type": "code",
   "execution_count": null,
   "metadata": {},
   "outputs": [],
   "source": [
    "# Initilaise a variable named float_var with value\n",
    "float_var = 1.0\n",
    "\n",
    "# Print value of float_var to console\n",
    "print(float_var)\n",
    "\n",
    "# Get the data type of float_var\n",
    "type(float_var)"
   ]
  },
  {
   "cell_type": "markdown",
   "metadata": {},
   "source": [
    "##### Booleans reporesent two values - True or False."
   ]
  },
  {
   "cell_type": "code",
   "execution_count": null,
   "metadata": {},
   "outputs": [],
   "source": [
    "# Initilaise a variable named bool_var with value\n",
    "bool_var = False\n",
    "\n",
    "# Print the type of bool_var to console\n",
    "print(bool_var)\n",
    "\n",
    "# Get the data type of bool_var\n",
    "type(bool_var)"
   ]
  },
  {
   "cell_type": "markdown",
   "metadata": {},
   "source": [
    "## Operators\n",
    "\n",
    "#### Operators are used to perform operations on variables and values."
   ]
  },
  {
   "cell_type": "markdown",
   "metadata": {},
   "source": [
    "### Arithmetic\n",
    "\n",
    "##### Arithmetic operators are used with numeric values to perform common mathematical operations."
   ]
  },
  {
   "cell_type": "code",
   "execution_count": null,
   "metadata": {},
   "outputs": [],
   "source": [
    "# Addition\n",
    "4 + 2"
   ]
  },
  {
   "cell_type": "code",
   "execution_count": null,
   "metadata": {},
   "outputs": [],
   "source": [
    "# Substraction\n",
    "4 - 2"
   ]
  },
  {
   "cell_type": "code",
   "execution_count": null,
   "metadata": {},
   "outputs": [],
   "source": [
    "# Devision\n",
    "4 / 2"
   ]
  },
  {
   "cell_type": "code",
   "execution_count": null,
   "metadata": {},
   "outputs": [],
   "source": [
    "# Multiplication\n",
    "4 * 2"
   ]
  },
  {
   "cell_type": "code",
   "execution_count": null,
   "metadata": {},
   "outputs": [],
   "source": [
    "# Exponentiation\n",
    "4 ** 2"
   ]
  },
  {
   "cell_type": "code",
   "execution_count": null,
   "metadata": {},
   "outputs": [],
   "source": [
    "# Modulous (returns the remainder of euclidean division)\n",
    "9 % 4"
   ]
  },
  {
   "cell_type": "code",
   "execution_count": null,
   "metadata": {},
   "outputs": [],
   "source": [
    "# Floor Devision (returns largest integer from devision)\n",
    "4 // 2.1"
   ]
  },
  {
   "cell_type": "markdown",
   "metadata": {},
   "source": [
    "##### When performing arithmetic operation is key to know the order of using the operators. \n",
    "##### See examples [here](https://thehelloworldprogram.com/python/python-operators-order-precedence/) "
   ]
  },
  {
   "cell_type": "markdown",
   "metadata": {},
   "source": [
    "### Comparison Operators\n",
    "\n",
    "\n",
    "##### Comparison operators are used to compare two values."
   ]
  },
  {
   "cell_type": "code",
   "execution_count": null,
   "metadata": {},
   "outputs": [],
   "source": [
    "# Equal\n",
    "1 == 2"
   ]
  },
  {
   "cell_type": "code",
   "execution_count": null,
   "metadata": {},
   "outputs": [],
   "source": [
    "# Not equal\n",
    "1 != 2"
   ]
  },
  {
   "cell_type": "code",
   "execution_count": null,
   "metadata": {},
   "outputs": [],
   "source": [
    "# Greater than\n",
    "1 > 2"
   ]
  },
  {
   "cell_type": "code",
   "execution_count": null,
   "metadata": {},
   "outputs": [],
   "source": [
    "# Less than\n",
    "1 < 2"
   ]
  },
  {
   "cell_type": "code",
   "execution_count": null,
   "metadata": {},
   "outputs": [],
   "source": [
    "# Greater than or equal to\n",
    "1 >= 2"
   ]
  },
  {
   "cell_type": "code",
   "execution_count": null,
   "metadata": {},
   "outputs": [],
   "source": [
    "# Less than or equal to\n",
    "1 <= 2"
   ]
  },
  {
   "cell_type": "markdown",
   "metadata": {},
   "source": [
    "### Logical Operators\n",
    "\n",
    "##### Logical operators are used to combine conditional statements."
   ]
  },
  {
   "cell_type": "code",
   "execution_count": null,
   "metadata": {},
   "outputs": [],
   "source": [
    "# and (Returns True if both statements are true)\n",
    "1 < 2 and 1 < 3"
   ]
  },
  {
   "cell_type": "code",
   "execution_count": null,
   "metadata": {},
   "outputs": [],
   "source": [
    "# or (Returns True if one statement is true)\n",
    "1 < 2 or 1 < 0"
   ]
  },
  {
   "cell_type": "code",
   "execution_count": null,
   "metadata": {},
   "outputs": [],
   "source": [
    "# not (Returns False if the result is true)\n",
    "not(1 < 2 and 1 < 3)"
   ]
  },
  {
   "cell_type": "markdown",
   "metadata": {},
   "source": [
    "## Python data types\n",
    "\n",
    "#### Lists\n",
    "\n",
    "##### We use lists to store multiple items within a single variable."
   ]
  },
  {
   "cell_type": "code",
   "execution_count": null,
   "metadata": {},
   "outputs": [],
   "source": [
    "# Initialise 1 dimensional list\n",
    "list_1D = [1, 2, 3, 4, 5]\n",
    "\n",
    "# Print the length of the list\n",
    "print(len(list_1D))\n",
    "\n",
    "# Get the data type of list varaiable\n",
    "type(list_1D)"
   ]
  },
  {
   "cell_type": "markdown",
   "metadata": {},
   "source": [
    "##### List elements can be acced by passing a index value. In Python list indices start at 0. "
   ]
  },
  {
   "cell_type": "code",
   "execution_count": null,
   "metadata": {},
   "outputs": [],
   "source": [
    "# Get element at index 1 \n",
    "print(list_1D[1])\n",
    "\n",
    "# Access whole list with ':'\n",
    "print(list_1D[:])\n",
    "\n",
    "# Get list elements between index positions '2:4'\n",
    "print(list_1D[2:4])"
   ]
  },
  {
   "cell_type": "code",
   "execution_count": null,
   "metadata": {},
   "outputs": [],
   "source": [
    "# Initialise 2 dimensional list\n",
    "list_2D = [[1, 2, 3, 4, 5], [6, 7, 8, 9, 10]]\n",
    "\n",
    "# Print the length of the list\n",
    "print(len(list_2D))"
   ]
  },
  {
   "cell_type": "code",
   "execution_count": null,
   "metadata": {},
   "outputs": [],
   "source": [
    "# Access whole list with ':'\n",
    "print(list_2D[:])\n",
    "\n",
    "# Get element at index 1 \n",
    "print(list_2D[1])\n",
    "\n",
    "# Get list elements between index positions '2:4' from element at index 1\n",
    "print(list_2D[1][2:4])"
   ]
  },
  {
   "cell_type": "markdown",
   "metadata": {},
   "source": [
    "##### There are 4 Python data structures used to store collections of data, one are lists the other 3 are Tuple, Set, and Dictionary, all with different qualities and use cases. \n",
    "##### More examples [here](https://www.programiz.com/python-programming/variables-datatypes)"
   ]
  },
  {
   "cell_type": "markdown",
   "metadata": {},
   "source": [
    "## Flow control statements"
   ]
  },
  {
   "cell_type": "markdown",
   "metadata": {},
   "source": [
    "### For loops\n",
    "\n",
    "##### A for loop is used for iterating over a sequence (such as a list, tuple, dictionary, set or string). With a for loop we can execute a set of statements, once for each item in a sequence."
   ]
  },
  {
   "cell_type": "code",
   "execution_count": null,
   "metadata": {},
   "outputs": [],
   "source": [
    "# For value in list 1D\n",
    "for value in list_1D:\n",
    "    # If value is even\n",
    "    if (value % 2) == 0:\n",
    "        # Print \"value is Even\" to console\n",
    "        print(value, \"is Even\")\n",
    "    # Else print \"value is Odd\" to console\n",
    "    else:\n",
    "        print(value, \"is Odd\")"
   ]
  },
  {
   "cell_type": "markdown",
   "metadata": {},
   "source": [
    "### While Loop\n",
    "\n",
    "##### With a while loop we can execute a set of statements as long as a condition is true."
   ]
  },
  {
   "cell_type": "code",
   "execution_count": null,
   "metadata": {},
   "outputs": [],
   "source": [
    "# initialise loop counter \n",
    "i = 0\n",
    "\n",
    "# while i is less that the length of list_1D\n",
    "while i < len(list_1D):\n",
    "    # print value at the ith index of list_1D \n",
    "    print(list_1D[i])\n",
    "    # increment i by 1\n",
    "    i += 1\n",
    "\n",
    "# Print \"Done!\" when loop is finished (condition is no longer True)\n",
    "print(\"Done!\")"
   ]
  },
  {
   "cell_type": "markdown",
   "metadata": {},
   "source": [
    "### Break Statement\n",
    "\n",
    "##### With a break statement we can stop the loop even if the while condition is true."
   ]
  },
  {
   "cell_type": "code",
   "execution_count": null,
   "metadata": {},
   "outputs": [],
   "source": [
    "# Initialise loop counter \n",
    "i = 0\n",
    "# Initialise stop value\n",
    "stop_at = 2\n",
    "\n",
    "# While i is less that the length of list_1D\n",
    "while i < len(list_1D):\n",
    "    # Print value at the ith index of list_1D \n",
    "    print(list_1D[i])\n",
    "    # If value at the ith index of list_1D is equal to stop value - stop loop\n",
    "    if list_1D[i] == stop_at:\n",
    "        break\n",
    "    # Increment i by 1\n",
    "    i += 1"
   ]
  },
  {
   "cell_type": "markdown",
   "metadata": {},
   "source": [
    "## Exception handling\n",
    "\n",
    "##### Python manages exceptions or errors with build-in tools, one is Try/Except. This type of handling is included in some of the DEA notebooks."
   ]
  },
  {
   "cell_type": "code",
   "execution_count": null,
   "metadata": {},
   "outputs": [],
   "source": [
    "# say we want to print a variable that does not exist\n",
    "print (a)\n",
    "# if you run the above you get an error saying the name 'a' is not defined. "
   ]
  },
  {
   "cell_type": "code",
   "execution_count": null,
   "metadata": {},
   "outputs": [],
   "source": [
    "# the way to overcame that is with the code below. So python find the error and jump to the next line of code 'except' and your program does not stop\n",
    "try:\n",
    "    print (a)\n",
    "except:\n",
    "    print (\"variable 'a' does not exist\")"
   ]
  },
  {
   "cell_type": "markdown",
   "metadata": {},
   "source": [
    "## Functions\n",
    "\n",
    "##### A function is a block of code which only runs when it is called."
   ]
  },
  {
   "cell_type": "code",
   "execution_count": null,
   "metadata": {},
   "outputs": [],
   "source": [
    "# Define function called hello()\n",
    "def hello():\n",
    "    # Add docstring to descibe functionality\n",
    "    \"\"\"Function to print Hello World!\"\"\"\n",
    "    # Print \"Hello world!\" to console\n",
    "    print(\"Hello world!\")"
   ]
  },
  {
   "cell_type": "code",
   "execution_count": null,
   "metadata": {},
   "outputs": [],
   "source": [
    "# Call hello() function\n",
    "hello()"
   ]
  },
  {
   "cell_type": "markdown",
   "metadata": {},
   "source": [
    "##### You can pass data, known as parameters, into a function."
   ]
  },
  {
   "cell_type": "code",
   "execution_count": null,
   "metadata": {},
   "outputs": [],
   "source": [
    "# Define function called multiply()\n",
    "def multiply(x, y): # This function takes the parameters x and y as input\n",
    "    # Add docstring to descibe functionality\n",
    "    \"\"\"Function to multiply two numbers\"\"\"\n",
    "    # Multiply parameters x and y and assign to vairable result\n",
    "    result =  x * y\n",
    "    # Return result\n",
    "    return result"
   ]
  },
  {
   "cell_type": "markdown",
   "metadata": {},
   "source": [
    "##### A function can return data as a result."
   ]
  },
  {
   "cell_type": "code",
   "execution_count": null,
   "metadata": {},
   "outputs": [],
   "source": [
    "# Call multiply() function with parameters\n",
    "multiply(3, 5)"
   ]
  }
 ],
 "metadata": {
  "kernelspec": {
   "display_name": "Python 3 (ipykernel)",
   "language": "python",
   "name": "python3"
  },
  "language_info": {
   "codemirror_mode": {
    "name": "ipython",
    "version": 3
   },
   "file_extension": ".py",
   "mimetype": "text/x-python",
   "name": "python",
   "nbconvert_exporter": "python",
   "pygments_lexer": "ipython3",
   "version": "3.8.12"
  }
 },
 "nbformat": 4,
 "nbformat_minor": 4
}
