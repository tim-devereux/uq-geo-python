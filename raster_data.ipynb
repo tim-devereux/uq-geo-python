{
 "cells": [
  {
   "cell_type": "markdown",
   "id": "f4fead4e-4b38-4608-9da4-5db66a9fb9a7",
   "metadata": {
    "jp-MarkdownHeadingCollapsed": true,
    "tags": []
   },
   "source": [
    "## Open, Plot and Explore Lidar Data in Raster Format with Python\n",
    "\n",
    "### What is a Raster?\n",
    "Raster or “gridded” data are stored as a grid of values which are rendered on a map as pixels. Each pixel value represents an area on the Earth’s surface. A raster file is a composed of regular grid of cells, all of which are the same size. You’ve looked at and used rasters before if you’ve looked at photographs or imagery in a tool like Google Earth. However, the raster files that you will work with are different from photographs in that they are spatially referenced. Each pixel represents an area of land on the ground. That area is defined by the spatial resolution of the raster.\n",
    "\n",
    "<img src=\"images/raster-concept.png\" alt=\"drawing\" width=\"800\"/>\n",
    "\n",
    "## Raster Facts\n",
    "\n",
    "A few notes about rasters:\n",
    "\n",
    "* Each cell is called a pixel.\n",
    "\n",
    "* And each pixel represents an area on the ground.\n",
    "\n",
    "* The resolution of the raster represents the area that each pixel represents the area it represents on the ground. So, a 1 meter resolution raster, means that each pixel represents a 1 m by 1m area on the ground.\n",
    "\n",
    "A raster dataset can have attributes associated with it as well. For instance in a LiDAR derived digital elevation model (DEM), each cell represents an elevation value for that location on the earth. In a LIDAR derived intensity image, each cell represents a LIDAR intensity value or the amount of light energy returned to and recorded by the sensor.\n",
    "\n",
    "<img src=\"images/raster-resolution.png\" alt=\"drawing\" width=\"1000\"/>"
   ]
  },
  {
   "cell_type": "markdown",
   "id": "6c141c04-c9b9-4ac0-b623-701ed91c6b7b",
   "metadata": {},
   "source": [
    "## Open Raster Data in Python\n",
    "\n",
    "You can use the `rasterio` library combined with `numpy` and `matplotlib` to open, manipulate and plot raster data in Python. To begin you will load a suite of python libraries required to complete this lesson. These libraries are all a part of the `uq-geo` conda environment."
   ]
  },
  {
   "cell_type": "code",
   "execution_count": null,
   "id": "f2a0f8a0-8551-45cf-bcd6-e0aafeb3f20d",
   "metadata": {},
   "outputs": [],
   "source": [
    "import os\n",
    "import geopandas as gpd\n",
    "from geopandas.tools import sjoin\n",
    "import matplotlib.pyplot as plt\n",
    "import matplotlib.cm as cm\n",
    "import matplotlib.colors as colors\n",
    "import rasterio as rio\n",
    "from rasterio.plot import show\n",
    "from rasterstats import zonal_stats\n",
    "import rasterstats\n",
    "import osmnx as ox\n",
    "import contextily as cx\n",
    "import pandas as pd"
   ]
  },
  {
   "cell_type": "markdown",
   "id": "8a0196d6-9acc-4ff3-a2f8-915e11c4a457",
   "metadata": {},
   "source": [
    "Be sure to set your working directory `os.chdir(\"path-to-you-dir-here/uq-geo-python/data\")`"
   ]
  },
  {
   "cell_type": "code",
   "execution_count": null,
   "id": "23bcc3a2-a079-4e5c-8ebe-65903afd3fc1",
   "metadata": {},
   "outputs": [],
   "source": [
    "os.chdir(os.path.join('/home/dev103/uq-geo-python'))\n",
    "\n",
    "height_raster_path = 'data/GEDI_LandSat_Raster/Forest_Height_2019.tif'\n",
    "\n",
    "# open raster data\n",
    "height_raster = rio.open(height_raster_path)\n",
    "\n",
    "# view spatial extent\n",
    "height_raster.bounds"
   ]
  },
  {
   "cell_type": "code",
   "execution_count": null,
   "id": "139b2cb9-314f-40ba-9f9a-7b9b81366b7c",
   "metadata": {},
   "outputs": [],
   "source": [
    "# plot the raster using matplotlib\n",
    "\n",
    "fig, ax = plt.subplots(figsize = (10,10))\n",
    "show(height_raster, \n",
    "     title=\"Canopy Height 2019\", \n",
    "     ax=ax)\n",
    "ax.set_axis_off()"
   ]
  },
  {
   "cell_type": "markdown",
   "id": "fc8908e8-a787-446e-bc4b-8883b4f80cad",
   "metadata": {},
   "source": [
    "### Opening and Closing File Connections\n",
    "The rasterio library is efficient as it establishes a connection with the raster file rather than directly reading it into memory. Because it creates a connection, it is important that you close the connection after it is opened AND after you’ve finished working with the data!"
   ]
  },
  {
   "cell_type": "code",
   "execution_count": null,
   "id": "1b4df98d-ac58-42fa-8f18-90e2881cd90b",
   "metadata": {},
   "outputs": [],
   "source": [
    "# close the file connection\n",
    "height_raster.close()"
   ]
  },
  {
   "cell_type": "code",
   "execution_count": null,
   "id": "ad02bf9e-1928-4bf0-95b3-bd60975770b1",
   "metadata": {},
   "outputs": [],
   "source": [
    "# this returns an error as you have closed the connection to the file. \n",
    "show(height_raster)"
   ]
  },
  {
   "cell_type": "markdown",
   "id": "22b8e2e1-e76b-4a38-baa1-6feb338d1438",
   "metadata": {},
   "source": [
    "Once the connection is closed, you can no longer work with the data. You’ll need to re-open the connection. Like this:"
   ]
  },
  {
   "cell_type": "code",
   "execution_count": null,
   "id": "c37bfe39-1a28-47ea-866d-a079fbe50adb",
   "metadata": {},
   "outputs": [],
   "source": [
    "# open raster data connection - again\n",
    "height_raster = rio.open(height_raster_path)\n",
    "\n",
    "fig, ax = plt.subplots(figsize = (10,10))\n",
    "\n",
    "# You can use the rasterio show() function to quickly plot a raster image.\n",
    "show(height_raster, \n",
    "     title=\"Once the connection is re-opened \\nyou can work with the raster data\", \n",
    "     ax=ax)\n",
    "ax.set_axis_off()"
   ]
  },
  {
   "cell_type": "code",
   "execution_count": null,
   "id": "259e89b5-b165-4235-8852-60624da9898d",
   "metadata": {},
   "outputs": [],
   "source": [
    "height_raster.close()"
   ]
  },
  {
   "cell_type": "markdown",
   "id": "9db615a4-6149-4ed4-a80c-f729a26e7293",
   "metadata": {},
   "source": [
    "### Context Manager to Open/Close Raster Data\n",
    "\n",
    "A better way to work with raster data in `rasterio` is to use the context manager. This will handle opening and closing the raster file for you.\n",
    "\n",
    "`with rio.open('name of file') as scr: src.rasteriofunctionname()`"
   ]
  },
  {
   "cell_type": "code",
   "execution_count": null,
   "id": "4c0156c2-1cb4-4aa5-9444-26539f960f22",
   "metadata": {},
   "outputs": [],
   "source": [
    "# view spatial extent of raster object\n",
    "with rio.open(height_raster_path) as src:\n",
    "    print(src.bounds)"
   ]
  },
  {
   "cell_type": "markdown",
   "id": "d07a3a42-3b58-4588-b692-8bd80e8927ae",
   "metadata": {},
   "source": [
    "Once you are outside of the `with` statement, you can no long access the `src` object which contains the spatial raster information."
   ]
  },
  {
   "cell_type": "markdown",
   "id": "e31555fb-f1cf-443c-ac9c-a97a76060990",
   "metadata": {},
   "source": [
    "### Zonal statistics\n",
    "Quite often you have a situtation when you want to summarize raster datasets based on vector geometries. Rasterstats is a Python module that helps to acheive this easily when using geopandas and rasterio."
   ]
  },
  {
   "cell_type": "code",
   "execution_count": null,
   "id": "4df0fb80-9d8e-4a25-8591-8dcf29689299",
   "metadata": {},
   "outputs": [],
   "source": [
    "# Read in Forest height raster with rasterio.\n",
    "\n",
    "height_raster_path = 'data/GEDI_LandSat_Raster/Forest_Height_2019.tif'\n",
    "\n",
    "height_raster = rio.open(height_raster_path)"
   ]
  },
  {
   "cell_type": "code",
   "execution_count": null,
   "id": "49f42c07-81c0-41c7-b703-4a5ce37f4855",
   "metadata": {},
   "outputs": [],
   "source": [
    "# Read in regional ecosystem polygon as geopandas dataframe. \n",
    "\n",
    "RE_df_path = \"data/RE_Polygons/RE_Polygons.shp\"\n",
    "\n",
    "RE_df = gpd.read_file(RE_df_path)"
   ]
  },
  {
   "cell_type": "code",
   "execution_count": null,
   "id": "2bf8050b-5514-4934-8e9c-8f0cbd543f15",
   "metadata": {},
   "outputs": [],
   "source": [
    "RE_df"
   ]
  },
  {
   "cell_type": "code",
   "execution_count": null,
   "id": "1838f90a-7c7b-4ae4-b159-bf4b3b0aa30f",
   "metadata": {},
   "outputs": [],
   "source": [
    "# Plot the raster and the vector data together.\n",
    "fig, ax = plt.subplots(figsize = (15,15))\n",
    "\n",
    "# Make a numpy array to get min and max pixel values for colour bar\n",
    "height_array = height_raster.read(1)\n",
    "\n",
    "# Nomalise colour to min and max values\n",
    "norm = colors.Normalize(vmin=height_array.min(), vmax=height_array.max())\n",
    "\n",
    "# Plot raster\n",
    "show(height_raster, ax = ax, cmap='viridis')\n",
    "fig.colorbar(cm.ScalarMappable(norm=norm, cmap='viridis_r'), ax=ax)\n",
    "\n",
    "# Plot vector data\n",
    "RE_df.plot(ax = ax, facecolor = 'None', edgecolor = 'red')\n",
    "plt.show()"
   ]
  },
  {
   "cell_type": "code",
   "execution_count": null,
   "id": "d7d60556-b95f-4fec-869a-11f2283012c9",
   "metadata": {},
   "outputs": [],
   "source": [
    "RE_df_disolved = RE_df.dissolve(by='RE', aggfunc='sum', as_index = False)"
   ]
  },
  {
   "cell_type": "code",
   "execution_count": null,
   "id": "9f244928-3b07-48cb-80b8-9f8b0a974f8c",
   "metadata": {},
   "outputs": [],
   "source": [
    "RE_df_disolved"
   ]
  },
  {
   "cell_type": "code",
   "execution_count": null,
   "id": "268bd119-bc8d-4ec2-9cba-9542a2f33027",
   "metadata": {},
   "outputs": [],
   "source": [
    "# Assign raster values to a numpy nd array\n",
    "height_array = height_raster.read(1)\n",
    "\n",
    "# Calculate the zonal statistics \n",
    "height_raster_zonal = rasterstats.zonal_stats(RE_df_disolved, height_array, affine = height_raster.transform,\n",
    "                                      stats = ['mean','std','max','min'], \n",
    "                                      geojson_out = True)"
   ]
  },
  {
   "cell_type": "markdown",
   "id": "1cacb106-2dfe-4cf6-ab28-6a8d65d68043",
   "metadata": {},
   "source": [
    "### Now that we have the zonal statistics we can load them into a pandas dataframe, which is nicer to work with. "
   ]
  },
  {
   "cell_type": "code",
   "execution_count": null,
   "id": "4a61653a-6029-440d-a1c9-005ae81746a8",
   "metadata": {},
   "outputs": [],
   "source": [
    "# Create an empty list to store values\n",
    "height_stats = []\n",
    "\n",
    "# Initalise counter for loop\n",
    "i = 0\n",
    "\n",
    "# Loop through zonal statistics array and append values to list\n",
    "while i < len(height_raster_zonal):\n",
    "    height_stats.append(height_raster_zonal[i]['properties'])\n",
    "    i = i + 1 \n",
    "\n",
    "# Transfer the infromation from the list to a pandas dataframe\n",
    "height_stats_df = pd.DataFrame(height_stats)"
   ]
  },
  {
   "cell_type": "code",
   "execution_count": null,
   "id": "9e4d5b78-9cf6-4a7b-a3ba-ccf5c60683e4",
   "metadata": {},
   "outputs": [],
   "source": [
    "height_stats_df"
   ]
  },
  {
   "cell_type": "code",
   "execution_count": null,
   "id": "a9f46fc8-f9b9-49c0-a5af-f968cf68711b",
   "metadata": {},
   "outputs": [],
   "source": [
    "# Initialise fig, ax and set figure size \n",
    "fig, ax = plt.subplots(figsize = (20, 5))\n",
    "\n",
    "height_stats_df.plot.bar(x='RE', ax=ax)\n",
    "plt.xticks(rotation=90)\n",
    "plt.show()"
   ]
  }
 ],
 "metadata": {
  "kernelspec": {
   "display_name": "Python 3 (ipykernel)",
   "language": "python",
   "name": "python3"
  },
  "language_info": {
   "codemirror_mode": {
    "name": "ipython",
    "version": 3
   },
   "file_extension": ".py",
   "mimetype": "text/x-python",
   "name": "python",
   "nbconvert_exporter": "python",
   "pygments_lexer": "ipython3",
   "version": "3.8.12"
  }
 },
 "nbformat": 4,
 "nbformat_minor": 5
}
