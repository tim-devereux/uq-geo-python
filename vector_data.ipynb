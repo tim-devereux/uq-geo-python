{
 "cells": [
  {
   "cell_type": "markdown",
   "id": "8f0ff14a-f41d-49e7-b29d-75a48ff1e3a2",
   "metadata": {},
   "source": [
    "### About Vector Data\n",
    "Vector data are composed of discrete geometric locations (x, y values) known as vertices that define the “shape” of the spatial object. The organization of the vertices determines the type of vector that you are working with. There are three types of vector data:\n",
    "\n",
    "* Points: Each individual point is defined by a single x, y coordinate. There can be many points in a vector point file. Examples of point data include: sampling locations, the location of individual trees or the location of plots.\n",
    "\n",
    "* Lines: Lines are composed of many (at least 2) vertices, or points, that are connected. For instance, a road or a stream may be represented by a line. This line is composed of a series of segments, each “bend” in the road or stream represents a vertex that has defined x, y location.\n",
    "\n",
    "* Polygons: A polygon consists of 3 or more vertices that are connected and “closed”. Thus the outlines of plot boundaries, lakes, oceans, and states or countries are often represented by polygons. Occasionally, a polygon can have a hole in the middle of it (like a doughnut), this is something to be aware of but not an issue you will deal with in this tutorial.\n",
    "\n",
    "<img src=\"images/points-lines-polygons-vector-data-types.png\" alt=\"drawing\" width=\"600\"/>"
   ]
  },
  {
   "cell_type": "code",
   "execution_count": null,
   "id": "3fcd43b2-5518-4093-9871-b586d46fb0e8",
   "metadata": {},
   "outputs": [],
   "source": [
    "import geopandas as gpd\n",
    "from geopandas.tools import sjoin\n",
    "import matplotlib.pyplot as plt\n",
    "import contextily as cx"
   ]
  },
  {
   "cell_type": "code",
   "execution_count": null,
   "id": "73f6ab5f-8186-45cf-b10a-4ab9eff11a40",
   "metadata": {},
   "outputs": [],
   "source": [
    "# Load GEDI footprint points into Geopandas dataframe\n",
    "\n",
    "GEDI_df = gpd.read_file(\"data/GEDI_Shots/GEDI.shp\")"
   ]
  },
  {
   "cell_type": "code",
   "execution_count": null,
   "id": "b8c9a12f-2e22-449a-a928-4dce903f1b25",
   "metadata": {},
   "outputs": [],
   "source": [
    "GEDI_df"
   ]
  },
  {
   "cell_type": "code",
   "execution_count": null,
   "id": "4b6d68a3-cf22-45b6-8da2-b7d41dfb6c7c",
   "metadata": {},
   "outputs": [],
   "source": [
    "# Create new column with rh100 in meters\n",
    "GEDI_df[\"rh100m\"] = GEDI_df[\"rh100\"] * 0.01"
   ]
  },
  {
   "cell_type": "code",
   "execution_count": null,
   "id": "ce51982e-210c-4194-a758-7981673a9555",
   "metadata": {},
   "outputs": [],
   "source": [
    "GEDI_df"
   ]
  },
  {
   "cell_type": "code",
   "execution_count": null,
   "id": "12d94fc7-597c-4fe2-89f7-09fdc550a5c5",
   "metadata": {},
   "outputs": [],
   "source": [
    "# Check CRS\n",
    "GEDI_df.crs"
   ]
  },
  {
   "cell_type": "code",
   "execution_count": null,
   "id": "ae5330f8-aa85-44c7-8c41-68e5950042ac",
   "metadata": {},
   "outputs": [],
   "source": [
    "# Load regional ecosystem polygons into geopandas dataframe\n",
    "RE_df = gpd.read_file(\"data/RE_Polygons/RE_Polygons.shp\")"
   ]
  },
  {
   "cell_type": "code",
   "execution_count": null,
   "id": "cfd3dc46-0de1-4e04-b210-16b3542c2cfc",
   "metadata": {},
   "outputs": [],
   "source": [
    "RE_df"
   ]
  },
  {
   "cell_type": "code",
   "execution_count": null,
   "id": "b6bf91fb-fbe7-4859-a317-b0a50952c631",
   "metadata": {},
   "outputs": [],
   "source": [
    "# Check CRS\n",
    "RE_df.crs"
   ]
  },
  {
   "cell_type": "markdown",
   "id": "d15ebe69-b471-43e9-9dfc-3facc4bfce27",
   "metadata": {},
   "source": [
    "### We can now map the geospatial data using matplotlib"
   ]
  },
  {
   "cell_type": "code",
   "execution_count": null,
   "id": "9d2c8e63-e891-4713-bf53-30386e40e615",
   "metadata": {},
   "outputs": [],
   "source": [
    "# Initialise fig and ax\n",
    "fig, ax = plt.subplots()\n",
    "\n",
    "# plot the data using geopandas .plot() method\n",
    "GEDI_df.plot(ax=ax)\n",
    "plt.show()"
   ]
  },
  {
   "cell_type": "code",
   "execution_count": null,
   "id": "4192f213-fda5-40af-8072-4a3822d2ae82",
   "metadata": {},
   "outputs": [],
   "source": [
    "# Initialise fig, ax and set figure size \n",
    "fig, ax = plt.subplots(figsize = (15,15))\n",
    "\n",
    "# Plot the data adding a colourmap and legend\n",
    "GEDI_df.plot(column='rh100m', \n",
    "                         legend=True, \n",
    "                         figsize=(10,6),\n",
    "                         markersize=45, \n",
    "                         cmap=\"viridis_r\", ax=ax);"
   ]
  },
  {
   "cell_type": "code",
   "execution_count": null,
   "id": "f5c20368-3a43-4fb3-b8f3-e4421f620e8c",
   "metadata": {},
   "outputs": [],
   "source": [
    "# Initialise fig, ax and set figure size \n",
    "fig, ax = plt.subplots(figsize = (15,15))\n",
    "\n",
    "# Plot the data adding a colourmap and legend\n",
    "GEDI_df.plot(column='rh100m', \n",
    "                         legend=True, \n",
    "                         figsize=(10,6),\n",
    "                         markersize=45, \n",
    "                         cmap=\"viridis_r\", ax=ax);\n",
    "\n",
    "# Add a basemap to the plot using contextily\n",
    "cx.add_basemap(ax, crs=GEDI_df.crs, source = 'https://mt1.google.com/vt/lyrs=s&x={x}&y={y}&z={z}')"
   ]
  },
  {
   "cell_type": "markdown",
   "id": "92e80c28-c879-4ff9-bc51-e282674cb92b",
   "metadata": {},
   "source": [
    "### Now we can apply similar code to plot our regional ecosystem polygons. "
   ]
  },
  {
   "cell_type": "code",
   "execution_count": null,
   "id": "be366b77-e08b-4da1-9955-22a5b1a700c9",
   "metadata": {},
   "outputs": [],
   "source": [
    "# Initialise fig and ax, setting the figure size. \n",
    "fig, ax = plt.subplots(figsize = (15,15))\n",
    "\n",
    "# Plot the data\n",
    "RE_df.plot(column='RE',  \n",
    "             figsize=(10,6),\n",
    "             markersize=45, \n",
    "             cmap=\"Set2\", ax=ax);\n",
    "\n",
    "# Here we obtain the coordintes required to add labels to each polygon and add them to the dataframe. \n",
    "RE_df['coords'] = RE_df['geometry'].apply(lambda x: x.representative_point().coords[:])\n",
    "RE_df['coords'] = [coords[0] for coords in RE_df['coords']]\n",
    "\n",
    "# Loop through each polygon adding a label to the plot. \n",
    "for idx, row in RE_df.iterrows():\n",
    "    ax.text(row.coords[0], \n",
    "            row.coords[1],\n",
    "            s=row[\"RE\"], \n",
    "            horizontalalignment='center', \n",
    "            bbox={'facecolor': 'white',\n",
    "                  'alpha':0.8, 'pad': 2, \n",
    "                  'edgecolor':'none'})\n",
    "\n",
    "# Add base map\n",
    "cx.add_basemap(ax, crs=RE_df.crs, source = 'https://mt1.google.com/vt/lyrs=s&x={x}&y={y}&z={z}')"
   ]
  },
  {
   "cell_type": "markdown",
   "id": "de3c6abf-c3ae-4515-a4d5-55ba9c61bde7",
   "metadata": {},
   "source": [
    "### Now we have visualised our regions we can calculate some summary stats for each polygon using the GEDI height data."
   ]
  },
  {
   "cell_type": "code",
   "execution_count": null,
   "id": "c8778c62-1acb-47cd-b16f-59e1b8d0b1ce",
   "metadata": {},
   "outputs": [],
   "source": [
    "# Use a spatial join to join the 2 dataframes\n",
    "points_polys = gpd.sjoin(GEDI_df, RE_df, how=\"left\")"
   ]
  },
  {
   "cell_type": "code",
   "execution_count": null,
   "id": "3177e11f-836c-4600-af81-2f289945d858",
   "metadata": {},
   "outputs": [],
   "source": [
    "points_polys"
   ]
  },
  {
   "cell_type": "code",
   "execution_count": null,
   "id": "84aed547-8b4e-4be3-89f7-a4016a1d7b41",
   "metadata": {},
   "outputs": [],
   "source": [
    "# Group each shot by regional ecosystem classification and calculate stats\n",
    "stats_pt = points_polys.groupby('RE')['rh100'].agg(['mean','std','max','min'])\n",
    "stats_pt"
   ]
  },
  {
   "cell_type": "code",
   "execution_count": null,
   "id": "9dfb026a-57b5-4c0d-baaa-49ba6fe7cc4f",
   "metadata": {},
   "outputs": [],
   "source": [
    "# Quickly plot the data\n",
    "stats_pt.plot.bar(figsize = (20,5))"
   ]
  }
 ],
 "metadata": {
  "kernelspec": {
   "display_name": "Python 3 (ipykernel)",
   "language": "python",
   "name": "python3"
  },
  "language_info": {
   "codemirror_mode": {
    "name": "ipython",
    "version": 3
   },
   "file_extension": ".py",
   "mimetype": "text/x-python",
   "name": "python",
   "nbconvert_exporter": "python",
   "pygments_lexer": "ipython3",
   "version": "3.8.12"
  }
 },
 "nbformat": 4,
 "nbformat_minor": 5
}
